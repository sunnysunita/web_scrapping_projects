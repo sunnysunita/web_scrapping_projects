{
  "nbformat": 4,
  "nbformat_minor": 0,
  "metadata": {
    "colab": {
      "name": "Currency Exchange",
      "provenance": [],
      "collapsed_sections": [],
      "authorship_tag": "ABX9TyOtgGuZ+tAO+/ygQkY5DXnI",
      "include_colab_link": true
    },
    "kernelspec": {
      "name": "python3",
      "display_name": "Python 3"
    }
  },
  "cells": [
    {
      "cell_type": "markdown",
      "metadata": {
        "id": "view-in-github",
        "colab_type": "text"
      },
      "source": [
        "<a href=\"https://colab.research.google.com/github/sunnysunita/web_scrapping_projects/blob/master/Currency_Exchange.ipynb\" target=\"_parent\"><img src=\"https://colab.research.google.com/assets/colab-badge.svg\" alt=\"Open In Colab\"/></a>"
      ]
    },
    {
      "cell_type": "markdown",
      "metadata": {
        "id": "drGDDgwI75c0",
        "colab_type": "text"
      },
      "source": [
        "# Currency Exchange"
      ]
    },
    {
      "cell_type": "code",
      "metadata": {
        "id": "dlksOOC367HO",
        "colab_type": "code",
        "colab": {}
      },
      "source": [
        "import requests"
      ],
      "execution_count": 0,
      "outputs": []
    },
    {
      "cell_type": "code",
      "metadata": {
        "id": "Hy1YPSQ17E99",
        "colab_type": "code",
        "colab": {}
      },
      "source": [
        "import json"
      ],
      "execution_count": 0,
      "outputs": []
    },
    {
      "cell_type": "code",
      "metadata": {
        "id": "y29jHdnuGFQv",
        "colab_type": "code",
        "colab": {}
      },
      "source": [
        "base_url = \"https://api.exchangeratesapi.io/latest\""
      ],
      "execution_count": 0,
      "outputs": []
    },
    {
      "cell_type": "code",
      "metadata": {
        "id": "KIxdArLqvssZ",
        "colab_type": "code",
        "colab": {}
      },
      "source": [
        "def get_input():\n",
        "  base_curr = input(\"Enter the Base Currency(eg: USD): \")\n",
        "  base_curr_value = int(input(\"Enter the Base Currency Value(eg: 1): \"))\n",
        "  pred_curr = input(\"Enter thr Predicted Currency(eg: INR): \")\n",
        "  return base_curr, base_curr_value, pred_curr"
      ],
      "execution_count": 0,
      "outputs": []
    },
    {
      "cell_type": "code",
      "metadata": {
        "id": "N8YKoNT8xT41",
        "colab_type": "code",
        "colab": {
          "base_uri": "https://localhost:8080/",
          "height": 68
        },
        "outputId": "0da17faa-bb2e-4c15-cf39-d04e0825568f"
      },
      "source": [
        "base_curr, base_curr_value, pred_curr = get_input()\n",
        "# print(base_curr)\n",
        "# print(base_curr_value)\n",
        "# print(pred_curr)"
      ],
      "execution_count": 72,
      "outputs": [
        {
          "output_type": "stream",
          "text": [
            "Enter the Base Currency(eg: USD): USD\n",
            "Enter the Base Currency Value(eg: 1): 10\n",
            "Enter thr Predicted Currency(eg: INR): INR\n"
          ],
          "name": "stdout"
        }
      ]
    },
    {
      "cell_type": "code",
      "metadata": {
        "id": "SCqCK15Uxxws",
        "colab_type": "code",
        "colab": {}
      },
      "source": [
        "def get_response(base_url, base_curr, pred_curr):\n",
        "  pred_url = base_url+\"?base=\"+base_curr+\"&symbols=\"+pred_curr\n",
        "  response = (requests.get(pred_url)).json()\n",
        "  return response"
      ],
      "execution_count": 0,
      "outputs": []
    },
    {
      "cell_type": "code",
      "metadata": {
        "id": "U01lc5Ywy6c-",
        "colab_type": "code",
        "colab": {}
      },
      "source": [
        "resp_data = get_response(base_url, base_curr, pred_curr)\n",
        "# print(json.dumps(resp_data, indent=4))"
      ],
      "execution_count": 0,
      "outputs": []
    },
    {
      "cell_type": "code",
      "metadata": {
        "id": "jtMxnwUzzCTu",
        "colab_type": "code",
        "colab": {}
      },
      "source": [
        "def get_result(resp_data, pred_curr):\n",
        "  return resp_data[\"rates\"][pred_curr], resp_data[\"date\"]"
      ],
      "execution_count": 0,
      "outputs": []
    },
    {
      "cell_type": "code",
      "metadata": {
        "id": "FdlS7Hgu2jKp",
        "colab_type": "code",
        "colab": {}
      },
      "source": [
        "pred_curr_value, current_date = get_result(resp_data, pred_curr)\n",
        "# print(pred_curr_value)\n",
        "# print(current_date)"
      ],
      "execution_count": 0,
      "outputs": []
    },
    {
      "cell_type": "code",
      "metadata": {
        "id": "U_HBLt-X3ATt",
        "colab_type": "code",
        "colab": {}
      },
      "source": [
        "def display_output(current_date,base_curr, base_curr_value, pred_curr, pred_curr_value):\n",
        "  print(\"Today: \", current_date)\n",
        "  print(base_curr +\"\\t\"+pred_curr)\n",
        "  print(str(base_curr_value)+\"\\t\"+str(pred_curr_value*base_curr_value))"
      ],
      "execution_count": 0,
      "outputs": []
    },
    {
      "cell_type": "code",
      "metadata": {
        "id": "hDzmB_4J4f_F",
        "colab_type": "code",
        "colab": {
          "base_uri": "https://localhost:8080/",
          "height": 68
        },
        "outputId": "1f327002-8640-4240-9abd-e3d1500f882c"
      },
      "source": [
        "display_output(current_date, base_curr, base_curr_value, pred_curr, pred_curr_value)"
      ],
      "execution_count": 78,
      "outputs": [
        {
          "output_type": "stream",
          "text": [
            "Today:  2020-04-17\n",
            "USD\tINR\n",
            "10\t764.7928176800001\n"
          ],
          "name": "stdout"
        }
      ]
    },
    {
      "cell_type": "code",
      "metadata": {
        "id": "uOGTDlOk4vIe",
        "colab_type": "code",
        "colab": {}
      },
      "source": [
        ""
      ],
      "execution_count": 0,
      "outputs": []
    }
  ]
}