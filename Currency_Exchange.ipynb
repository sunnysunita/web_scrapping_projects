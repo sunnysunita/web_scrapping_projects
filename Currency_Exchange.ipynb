{
  "nbformat": 4,
  "nbformat_minor": 0,
  "metadata": {
    "colab": {
      "name": "Currency Exchange",
      "provenance": [],
      "collapsed_sections": [],
      "authorship_tag": "ABX9TyN6WjmpjRk9lQgZoUF6N2hp",
      "include_colab_link": true
    },
    "kernelspec": {
      "name": "python3",
      "display_name": "Python 3"
    }
  },
  "cells": [
    {
      "cell_type": "markdown",
      "metadata": {
        "id": "view-in-github",
        "colab_type": "text"
      },
      "source": [
        "<a href=\"https://colab.research.google.com/github/sunnysunita/web_scrapping_projects/blob/master/Currency_Exchange.ipynb\" target=\"_parent\"><img src=\"https://colab.research.google.com/assets/colab-badge.svg\" alt=\"Open In Colab\"/></a>"
      ]
    },
    {
      "cell_type": "markdown",
      "metadata": {
        "id": "drGDDgwI75c0",
        "colab_type": "text"
      },
      "source": [
        "# Currency Exchange"
      ]
    },
    {
      "cell_type": "code",
      "metadata": {
        "id": "dlksOOC367HO",
        "colab_type": "code",
        "colab": {}
      },
      "source": [
        "import requests"
      ],
      "execution_count": 0,
      "outputs": []
    },
    {
      "cell_type": "code",
      "metadata": {
        "id": "Hy1YPSQ17E99",
        "colab_type": "code",
        "colab": {}
      },
      "source": [
        "import json"
      ],
      "execution_count": 0,
      "outputs": []
    },
    {
      "cell_type": "code",
      "metadata": {
        "id": "bPLRIb77FEQ_",
        "colab_type": "code",
        "colab": {}
      },
      "source": [
        "import sys"
      ],
      "execution_count": 0,
      "outputs": []
    },
    {
      "cell_type": "code",
      "metadata": {
        "id": "y29jHdnuGFQv",
        "colab_type": "code",
        "colab": {}
      },
      "source": [
        "base_url = \"https://api.exchangeratesapi.io/latest\""
      ],
      "execution_count": 0,
      "outputs": []
    },
    {
      "cell_type": "code",
      "metadata": {
        "id": "KIxdArLqvssZ",
        "colab_type": "code",
        "colab": {}
      },
      "source": [
        "def get_input():\n",
        "  base_curr = input(\"Enter the Base Currency(eg: USD): \")\n",
        "  base_curr_value = int(input(\"Enter the Base Currency Value(eg: 1): \"))\n",
        "  pred_curr = input(\"Enter thr Predicted Currency(eg: INR): \")\n",
        "  return base_curr, base_curr_value, pred_curr"
      ],
      "execution_count": 0,
      "outputs": []
    },
    {
      "cell_type": "code",
      "metadata": {
        "id": "N8YKoNT8xT41",
        "colab_type": "code",
        "outputId": "e7c3c23b-017b-46d8-dfc9-ffa0b78ba0f4",
        "colab": {
          "base_uri": "https://localhost:8080/",
          "height": 68
        }
      },
      "source": [
        "base_curr, base_curr_value, pred_curr = get_input()\n",
        "# print(base_curr)\n",
        "# print(base_curr_value)\n",
        "# print(pred_curr)"
      ],
      "execution_count": 6,
      "outputs": [
        {
          "output_type": "stream",
          "text": [
            "Enter the Base Currency(eg: USD): USD\n",
            "Enter the Base Currency Value(eg: 1): 5\n",
            "Enter thr Predicted Currency(eg: INR): ABC\n"
          ],
          "name": "stdout"
        }
      ]
    },
    {
      "cell_type": "code",
      "metadata": {
        "id": "SCqCK15Uxxws",
        "colab_type": "code",
        "colab": {}
      },
      "source": [
        "def get_response(base_url, base_curr, pred_curr):\n",
        "  pred_url = base_url+\"?base=\"+base_curr+\"&symbols=\"+pred_curr\n",
        "  res = requests.get(pred_url)\n",
        "  if res.ok is False:\n",
        "    print(\"Error\",res.status_code)\n",
        "    sys.exit()\n",
        "  else: \n",
        "    response = res.json()\n",
        "    return response"
      ],
      "execution_count": 0,
      "outputs": []
    },
    {
      "cell_type": "code",
      "metadata": {
        "id": "U01lc5Ywy6c-",
        "colab_type": "code",
        "colab": {
          "base_uri": "https://localhost:8080/",
          "height": 163
        },
        "outputId": "60e3ce4c-d8f5-4f9a-868b-e0198e826d41"
      },
      "source": [
        "resp_data = get_response(base_url, base_curr, pred_curr)\n",
        "# print(json.dumps(resp_data, indent=4))"
      ],
      "execution_count": 8,
      "outputs": [
        {
          "output_type": "stream",
          "text": [
            "Error 400\n"
          ],
          "name": "stdout"
        },
        {
          "output_type": "error",
          "ename": "SystemExit",
          "evalue": "ignored",
          "traceback": [
            "An exception has occurred, use %tb to see the full traceback.\n",
            "\u001b[0;31mSystemExit\u001b[0m\n"
          ]
        },
        {
          "output_type": "stream",
          "text": [
            "/usr/local/lib/python3.6/dist-packages/IPython/core/interactiveshell.py:2890: UserWarning: To exit: use 'exit', 'quit', or Ctrl-D.\n",
            "  warn(\"To exit: use 'exit', 'quit', or Ctrl-D.\", stacklevel=1)\n"
          ],
          "name": "stderr"
        }
      ]
    },
    {
      "cell_type": "code",
      "metadata": {
        "id": "jtMxnwUzzCTu",
        "colab_type": "code",
        "colab": {}
      },
      "source": [
        "def get_result(resp_data, pred_curr):\n",
        "  return resp_data[\"rates\"][pred_curr], resp_data[\"date\"]"
      ],
      "execution_count": 0,
      "outputs": []
    },
    {
      "cell_type": "code",
      "metadata": {
        "id": "FdlS7Hgu2jKp",
        "colab_type": "code",
        "colab": {}
      },
      "source": [
        "pred_curr_value, current_date = get_result(resp_data, pred_curr)\n",
        "# print(pred_curr_value)\n",
        "# print(current_date)"
      ],
      "execution_count": 0,
      "outputs": []
    },
    {
      "cell_type": "code",
      "metadata": {
        "id": "U_HBLt-X3ATt",
        "colab_type": "code",
        "colab": {}
      },
      "source": [
        "def display_output(current_date,base_curr, base_curr_value, pred_curr, pred_curr_value):\n",
        "  print(\"Today: \", current_date)\n",
        "  print(base_curr +\"\\t\"+pred_curr)\n",
        "  print(str(base_curr_value)+\"\\t\"+str(pred_curr_value*base_curr_value))"
      ],
      "execution_count": 0,
      "outputs": []
    },
    {
      "cell_type": "code",
      "metadata": {
        "id": "hDzmB_4J4f_F",
        "colab_type": "code",
        "colab": {}
      },
      "source": [
        "display_output(current_date, base_curr, base_curr_value, pred_curr, pred_curr_value)"
      ],
      "execution_count": 0,
      "outputs": []
    },
    {
      "cell_type": "code",
      "metadata": {
        "id": "uOGTDlOk4vIe",
        "colab_type": "code",
        "colab": {}
      },
      "source": [
        ""
      ],
      "execution_count": 0,
      "outputs": []
    }
  ]
}