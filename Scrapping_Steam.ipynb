{
  "nbformat": 4,
  "nbformat_minor": 0,
  "metadata": {
    "colab": {
      "name": "Untitled1.ipynb",
      "provenance": [],
      "authorship_tag": "ABX9TyN8k6zzsWQ0f4+78MbFZvNd",
      "include_colab_link": true
    },
    "kernelspec": {
      "name": "python3",
      "display_name": "Python 3"
    }
  },
  "cells": [
    {
      "cell_type": "markdown",
      "metadata": {
        "id": "view-in-github",
        "colab_type": "text"
      },
      "source": [
        "<a href=\"https://colab.research.google.com/github/sunnysunita/web_scrapping_projects/blob/master/Scrapping_Steam.ipynb\" target=\"_parent\"><img src=\"https://colab.research.google.com/assets/colab-badge.svg\" alt=\"Open In Colab\"/></a>"
      ]
    },
    {
      "cell_type": "code",
      "metadata": {
        "id": "TRNdR0qxnOGG",
        "colab_type": "code",
        "colab": {}
      },
      "source": [
        "from bs4 import BeautifulSoup\n",
        "import requests"
      ],
      "execution_count": 0,
      "outputs": []
    },
    {
      "cell_type": "code",
      "metadata": {
        "id": "vMRLRAlznSxV",
        "colab_type": "code",
        "colab": {}
      },
      "source": [
        "final_list = []\n",
        "for p in range(0,67):\n",
        "    r = requests.get(\"https://store.steampowered.com/tags/en/Action/#p=\"+str(p)+\"&tab=NewReleases\")\n",
        "    print(\"page_no: \",p,\" \",r)\n",
        "    html = r.content\n",
        "    soup = BeautifulSoup(html, \"lxml\")\n",
        "    list = []\n",
        "    for block in soup.find(\"div\", attrs = {\"id\":\"NewReleasesRows\"}) .find_all(\"a\", attrs = {\"class\":\"tab_item\"}):\n",
        "        dic = {}\n",
        "        dic[\"Name\"] = block.find(\"div\",attrs = {\"class\":\"tab_item_name\"}).string\n",
        "        dic[\"Price\"] = block.find(\"div\",attrs = {\"class\":\"discount_final_price\"}).string\n",
        "        list.append(dic)\n",
        "    final_list.extend(list)"
      ],
      "execution_count": 0,
      "outputs": []
    },
    {
      "cell_type": "code",
      "metadata": {
        "id": "qtn7gdvVnVka",
        "colab_type": "code",
        "colab": {}
      },
      "source": [
        "import pandas as pd\n",
        "games_prices = pd.DataFrame(final_list)\n",
        "games_prices\n",
        "games_prices.to_excel(\"games_prices.xlsx\")"
      ],
      "execution_count": 0,
      "outputs": []
    }
  ]
}