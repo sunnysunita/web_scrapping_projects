{
  "nbformat": 4,
  "nbformat_minor": 0,
  "metadata": {
    "colab": {
      "name": "iTuneAPI.ipynb",
      "provenance": [],
      "collapsed_sections": [],
      "authorship_tag": "ABX9TyNftiAaf60rafYVijNo2R0e",
      "include_colab_link": true
    },
    "kernelspec": {
      "name": "python3",
      "display_name": "Python 3"
    }
  },
  "cells": [
    {
      "cell_type": "markdown",
      "metadata": {
        "id": "view-in-github",
        "colab_type": "text"
      },
      "source": [
        "<a href=\"https://colab.research.google.com/github/sunnysunita/web_scrapping_projects/blob/master/iTuneAPI.ipynb\" target=\"_parent\"><img src=\"https://colab.research.google.com/assets/colab-badge.svg\" alt=\"Open In Colab\"/></a>"
      ]
    },
    {
      "cell_type": "code",
      "metadata": {
        "id": "zzCJMU5BCGU4",
        "colab_type": "code",
        "colab": {}
      },
      "source": [
        "import requests"
      ],
      "execution_count": 0,
      "outputs": []
    },
    {
      "cell_type": "code",
      "metadata": {
        "id": "0ZdEVmi2GWzO",
        "colab_type": "code",
        "colab": {}
      },
      "source": [
        "import json"
      ],
      "execution_count": 0,
      "outputs": []
    },
    {
      "cell_type": "code",
      "metadata": {
        "id": "zDhx-T4AT19z",
        "colab_type": "code",
        "colab": {}
      },
      "source": [
        "import sys"
      ],
      "execution_count": 0,
      "outputs": []
    },
    {
      "cell_type": "code",
      "metadata": {
        "id": "QQoVMV08GdXw",
        "colab_type": "code",
        "colab": {}
      },
      "source": [
        "base_url = \"https://itunes.apple.com/search?\""
      ],
      "execution_count": 0,
      "outputs": []
    },
    {
      "cell_type": "code",
      "metadata": {
        "id": "cUne58uwGln_",
        "colab_type": "code",
        "colab": {
          "base_uri": "https://localhost:8080/",
          "height": 51
        },
        "outputId": "d7383709-db6d-4333-88ad-827848bf5df2"
      },
      "source": [
        "artist_name = input(\"Enter the name of artist(eg: the beatles): \")\n",
        "country_code = input(\"Enter the country code(eg: US): \")\n",
        "response = requests.get(base_url, params={\"term\":artist_name,\"country\":country_code})\n",
        "if response.status_code is False:\n",
        "  print(\"Error\",response.status_code)\n",
        "  print(response)\n",
        "  sys.exit()"
      ],
      "execution_count": 28,
      "outputs": [
        {
          "output_type": "stream",
          "text": [
            "Enter the name of artist(eg: the beatles): jack johnsons\n",
            "Enter the country code(eg: US): US\n"
          ],
          "name": "stdout"
        }
      ]
    },
    {
      "cell_type": "code",
      "metadata": {
        "id": "OWaIN_CTJzPb",
        "colab_type": "code",
        "colab": {}
      },
      "source": [
        "resp_data = response.json()"
      ],
      "execution_count": 0,
      "outputs": []
    },
    {
      "cell_type": "code",
      "metadata": {
        "id": "bi2eil4cHhpI",
        "colab_type": "code",
        "colab": {}
      },
      "source": [
        "# print(json.dumps(resp_data, indent=5))"
      ],
      "execution_count": 0,
      "outputs": []
    },
    {
      "cell_type": "code",
      "metadata": {
        "id": "9fP5qJzOH7az",
        "colab_type": "code",
        "colab": {}
      },
      "source": [
        "#resp_data.keys()"
      ],
      "execution_count": 0,
      "outputs": []
    },
    {
      "cell_type": "code",
      "metadata": {
        "id": "xXRaucJJH1EY",
        "colab_type": "code",
        "colab": {}
      },
      "source": [
        "# print(json.dumps(resp_data[\"results\"], indent=5))"
      ],
      "execution_count": 0,
      "outputs": []
    },
    {
      "cell_type": "code",
      "metadata": {
        "id": "735A6g5sLDSK",
        "colab_type": "code",
        "colab": {}
      },
      "source": [
        "# print(type(resp_data[\"results\"]))\n",
        "# print(len(resp_data[\"results\"]))"
      ],
      "execution_count": 0,
      "outputs": []
    },
    {
      "cell_type": "code",
      "metadata": {
        "id": "AEm7lSe8Lh2X",
        "colab_type": "code",
        "colab": {
          "base_uri": "https://localhost:8080/",
          "height": 1000
        },
        "outputId": "9c91f3b2-9134-4fd4-ae69-052a29e63f96"
      },
      "source": [
        "i = 0\n",
        "while i != len(resp_data[\"results\"]):\n",
        "  data = resp_data[\"results\"][i]\n",
        "  print(str(i)+\".\"+\" Track_Name: \",data[\"trackName\"])\n",
        "  print(\"Release_Date: \",data[\"releaseDate\"][:10])\n",
        "  print(\"###########################\")\n",
        "  i += 1"
      ],
      "execution_count": 34,
      "outputs": [
        {
          "output_type": "stream",
          "text": [
            "0. Track_Name:  Jumanji: The Next Level\n",
            "Release_Date:  2019-12-13\n",
            "###########################\n",
            "1. Track_Name:  Star Wars: The Force Awakens\n",
            "Release_Date:  2015-12-18\n",
            "###########################\n",
            "2. Track_Name:  Jumanji: Welcome to the Jungle\n",
            "Release_Date:  2017-12-20\n",
            "###########################\n",
            "3. Track_Name:  Upside Down\n",
            "Release_Date:  2006-02-06\n",
            "###########################\n",
            "4. Track_Name:  Better Together\n",
            "Release_Date:  2005-03-01\n",
            "###########################\n",
            "5. Track_Name:  Sitting, Waiting, Wishing\n",
            "Release_Date:  2005-03-01\n",
            "###########################\n",
            "6. Track_Name:  Banana Pancakes\n",
            "Release_Date:  2005-03-01\n",
            "###########################\n",
            "7. Track_Name:  Good People\n",
            "Release_Date:  2005-03-01\n",
            "###########################\n",
            "8. Track_Name:  Breakdown\n",
            "Release_Date:  2005-03-01\n",
            "###########################\n",
            "9. Track_Name:  The Shining\n",
            "Release_Date:  1980-05-23\n",
            "###########################\n",
            "10. Track_Name:  You and Your Heart\n",
            "Release_Date:  2010-04-06\n",
            "###########################\n",
            "11. Track_Name:  Do You Remember\n",
            "Release_Date:  2005-03-01\n",
            "###########################\n",
            "12. Track_Name:  Never Know\n",
            "Release_Date:  2005-03-01\n",
            "###########################\n",
            "13. Track_Name:  Angel\n",
            "Release_Date:  2008-02-02\n",
            "###########################\n",
            "14. Track_Name:  If I Had Eyes\n",
            "Release_Date:  2007-12-15\n",
            "###########################\n",
            "15. Track_Name:  No Other Way\n",
            "Release_Date:  2005-03-01\n",
            "###########################\n",
            "16. Track_Name:  Broken\n",
            "Release_Date:  2006-02-06\n",
            "###########################\n",
            "17. Track_Name:  Constellations\n",
            "Release_Date:  2005-03-01\n",
            "###########################\n",
            "18. Track_Name:  Staple It Together\n",
            "Release_Date:  2005-03-01\n",
            "###########################\n",
            "19. Track_Name:  Crying Shame\n",
            "Release_Date:  2005-03-01\n",
            "###########################\n",
            "20. Track_Name:  If I Could\n",
            "Release_Date:  2005-03-01\n",
            "###########################\n",
            "21. Track_Name:  Belle\n",
            "Release_Date:  2005-03-01\n",
            "###########################\n",
            "22. Track_Name:  Situations\n",
            "Release_Date:  2005-03-01\n",
            "###########################\n",
            "23. Track_Name:  Constellations\n",
            "Release_Date:  2005-03-01\n",
            "###########################\n",
            "24. Track_Name:  We're Going To Be Friends\n",
            "Release_Date:  2006-02-06\n",
            "###########################\n",
            "25. Track_Name:  My Own Two Hands (feat. Ben Harper)\n",
            "Release_Date:  2006-02-06\n",
            "###########################\n",
            "26. Track_Name:  Logan Lucky\n",
            "Release_Date:  2017-08-18\n",
            "###########################\n",
            "27. Track_Name:  Hope\n",
            "Release_Date:  2008-02-01\n",
            "###########################\n",
            "28. Track_Name:  Talk of the Town (feat. Kawika Kahiapo)\n",
            "Release_Date:  2006-02-06\n",
            "###########################\n",
            "29. Track_Name:  Same Girl\n",
            "Release_Date:  2008-02-01\n",
            "###########################\n",
            "30. Track_Name:  Smurfs: The Lost Village\n",
            "Release_Date:  2017-04-07\n",
            "###########################\n",
            "31. Track_Name:  Sleep Through the Static\n",
            "Release_Date:  2007-12-01\n",
            "###########################\n",
            "32. Track_Name:  Lullaby (feat. Matt Costa)\n",
            "Release_Date:  2006-02-06\n",
            "###########################\n",
            "33. Track_Name:  People Watching\n",
            "Release_Date:  2006-02-06\n",
            "###########################\n",
            "34. Track_Name:  Upside Down (feat. Money Mark)\n",
            "Release_Date:  2006-02-06\n",
            "###########################\n",
            "35. Track_Name:  The 3 R's\n",
            "Release_Date:  2006-02-06\n",
            "###########################\n",
            "36. Track_Name:  Supposed To Be\n",
            "Release_Date:  2006-02-06\n",
            "###########################\n",
            "37. Track_Name:  Jungle Gym (feat. G. Love)\n",
            "Release_Date:  2006-02-06\n",
            "###########################\n",
            "38. Track_Name:  The Sharing Song\n",
            "Release_Date:  2006-02-06\n",
            "###########################\n",
            "39. Track_Name:  Taylor\n",
            "Release_Date:  2003-05-06\n",
            "###########################\n",
            "40. Track_Name:  I Got You\n",
            "Release_Date:  2013-06-10\n",
            "###########################\n",
            "41. Track_Name:  Wrong Turn\n",
            "Release_Date:  2006-02-06\n",
            "###########################\n",
            "42. Track_Name:  Go On\n",
            "Release_Date:  2008-02-02\n",
            "###########################\n",
            "43. Track_Name:  Questions\n",
            "Release_Date:  2006-02-06\n",
            "###########################\n",
            "44. Track_Name:  What You Thought You Need\n",
            "Release_Date:  2008-02-02\n",
            "###########################\n",
            "45. Track_Name:  All At Once\n",
            "Release_Date:  2008-02-02\n",
            "###########################\n",
            "46. Track_Name:  Transcendence (2014)\n",
            "Release_Date:  2014-04-18\n",
            "###########################\n",
            "47. Track_Name:  A Pirate Looks At Forty\n",
            "Release_Date:  2012-04-13\n",
            "###########################\n",
            "48. Track_Name:  Monsoon\n",
            "Release_Date:  2008-02-02\n",
            "###########################\n",
            "49. Track_Name:  Adrift\n",
            "Release_Date:  2008-02-02\n",
            "###########################\n"
          ],
          "name": "stdout"
        }
      ]
    },
    {
      "cell_type": "code",
      "metadata": {
        "id": "y8MZbbQVNa-L",
        "colab_type": "code",
        "colab": {}
      },
      "source": [
        "import pandas as pd"
      ],
      "execution_count": 0,
      "outputs": []
    },
    {
      "cell_type": "code",
      "metadata": {
        "id": "dh_TGsDSQSMM",
        "colab_type": "code",
        "colab": {}
      },
      "source": [
        "songs_df = pd.DataFrame(resp_data[\"results\"])"
      ],
      "execution_count": 0,
      "outputs": []
    },
    {
      "cell_type": "code",
      "metadata": {
        "id": "4TECr3MJQrqX",
        "colab_type": "code",
        "colab": {}
      },
      "source": [
        "# songs_df.head()"
      ],
      "execution_count": 0,
      "outputs": []
    },
    {
      "cell_type": "code",
      "metadata": {
        "id": "wu65bJ4CQvOw",
        "colab_type": "code",
        "colab": {}
      },
      "source": [
        "# songs_df.to_csv(\"songs_df in csv.csv\")\n",
        "# songs_df.to_excel(\"songs_df in xlsx.xlsx\")"
      ],
      "execution_count": 0,
      "outputs": []
    }
  ]
}